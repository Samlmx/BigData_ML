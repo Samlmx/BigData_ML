{
 "cells": [
  {
   "cell_type": "code",
   "execution_count": 1,
   "metadata": {},
   "outputs": [],
   "source": [
    "import pandas as pd\n",
    "# Master = pd.read_csv('Suicide_filtered_data_1030202.csv')\n",
    "HDI = pd.read_csv('Human development index (HDI).csv')\n",
    "Unemployment_rate = pd.read_csv('Unemployment_rate.csv')\n",
    "Male_unemployment_rate = pd.read_csv('Male_unemployment_rate.csv')\n",
    "Female_unemployment_rate = pd.read_csv('Female_unemployment_rate.csv')"
   ]
  },
  {
   "cell_type": "code",
   "execution_count": 2,
   "metadata": {},
   "outputs": [],
   "source": [
    "# HDI.head(10)"
   ]
  },
  {
   "cell_type": "code",
   "execution_count": 3,
   "metadata": {},
   "outputs": [],
   "source": [
    "HDI_spread = pd.melt(HDI, id_vars=\"Country\")\n",
    "HDI_spread = HDI_spread.rename(columns={'variable':'Year','value':'HDI'})\n",
    "# HDI_spread.head()"
   ]
  },
  {
   "cell_type": "code",
   "execution_count": 4,
   "metadata": {},
   "outputs": [],
   "source": [
    "# Unemployment_rate.head()"
   ]
  },
  {
   "cell_type": "code",
   "execution_count": 5,
   "metadata": {},
   "outputs": [],
   "source": [
    "Unemployment_rate_spread = pd.melt(Unemployment_rate, id_vars=\"Country Name\")\n",
    "Unemployment_rate_spread = Unemployment_rate_spread.rename(columns={'Country Name':'Country','variable':'Year','value':'UER'})\n",
    "# Unemployment_rate_spread.head()"
   ]
  },
  {
   "cell_type": "code",
   "execution_count": 6,
   "metadata": {},
   "outputs": [],
   "source": [
    "# Male_unemployment_rate.head()"
   ]
  },
  {
   "cell_type": "code",
   "execution_count": 7,
   "metadata": {},
   "outputs": [],
   "source": [
    "Male_unemployment_rate_spread = pd.melt(Male_unemployment_rate, id_vars=\"Country Name\")\n",
    "Male_unemployment_rate_spread = Male_unemployment_rate_spread.rename(columns={'Country Name':'Country','variable':'Year','value':'Male_UER'})\n",
    "# Male_unemployment_rate_spread.head()"
   ]
  },
  {
   "cell_type": "code",
   "execution_count": 8,
   "metadata": {},
   "outputs": [],
   "source": [
    "# Female_unemployment_rate.head()"
   ]
  },
  {
   "cell_type": "code",
   "execution_count": 9,
   "metadata": {},
   "outputs": [],
   "source": [
    "Female_unemployment_rate_spread = pd.melt(Female_unemployment_rate, id_vars=\"Country Name\")\n",
    "Female_unemployment_rate_spread = Female_unemployment_rate_spread.rename(columns={'Country Name':'Country','variable':'Year','value':'Female_UER'})\n",
    "# Female_unemployment_rate_spread.head()"
   ]
  },
  {
   "cell_type": "code",
   "execution_count": 10,
   "metadata": {},
   "outputs": [],
   "source": [
    "HDI_spread.to_csv('HDI_spread.csv', index = False)\n",
    "Unemployment_rate_spread.to_csv('UR_spread.csv', index = False)\n",
    "Male_unemployment_rate_spread.to_csv('MUR_spread.csv', index = False)\n",
    "Female_unemployment_rate_spread.to_csv('FUR_spread.csv', index = False)"
   ]
  },
  {
   "cell_type": "code",
   "execution_count": null,
   "metadata": {},
   "outputs": [],
   "source": []
  }
 ],
 "metadata": {
  "kernelspec": {
   "display_name": "Python 3",
   "language": "python",
   "name": "python3"
  },
  "language_info": {
   "codemirror_mode": {
    "name": "ipython",
    "version": 3
   },
   "file_extension": ".py",
   "mimetype": "text/x-python",
   "name": "python",
   "nbconvert_exporter": "python",
   "pygments_lexer": "ipython3",
   "version": "3.7.1"
  }
 },
 "nbformat": 4,
 "nbformat_minor": 2
}
